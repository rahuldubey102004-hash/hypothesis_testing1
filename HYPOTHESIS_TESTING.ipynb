{
  "nbformat": 4,
  "nbformat_minor": 0,
  "metadata": {
    "colab": {
      "provenance": []
    },
    "kernelspec": {
      "name": "python3",
      "display_name": "Python 3"
    },
    "language_info": {
      "name": "python"
    }
  },
  "cells": [
    {
      "cell_type": "markdown",
      "source": [
        "**bold text**Data Provided:\n",
        "•\tThe theoretical weekly operating cost model: W = $1,000 + $5X\n",
        "•\tSample of 25 restaurants with a mean weekly cost of Rs. 3,050\n",
        "•\tNumber of units produced in a week (X) follows a normal distribution with a mean (μ) of 600 units and a standard deviation (σ) of 25 units\n"
      ],
      "metadata": {
        "id": "ZhZ4tb71ba7r"
      }
    },
    {
      "cell_type": "markdown",
      "source": [
        "Assignment Tasks:\n",
        "1. State the Hypotheses statement:\n",
        "2. Calculate the Test Statistic:\n",
        "Use the following formula to calculate the test statistic (t):\n",
        "where:\n",
        "•\tˉxˉ = sample mean weekly cost (Rs. 3,050)\n",
        "•\tμ = theoretical mean weekly cost according to the cost model (W = $1,000 + $5X for X = 600 units)\n",
        "•\tσ = 5*25 units\n",
        "•\tn = sample size (25 restaurants)\n",
        "3. Determine the Critical Value:\n",
        "Using the alpha level of 5% (α = 0.05), determine the critical value from the standard normal (Z) distribution table.\n",
        "4. Make a Decision:\n",
        "Compare the test statistic with the critical value to decide whether to reject the null hypothesis.\n",
        "\n",
        "\n"
      ],
      "metadata": {
        "id": "2sWiIhrubJSR"
      }
    },
    {
      "cell_type": "code",
      "execution_count": 1,
      "metadata": {
        "id": "1hbAqRFaX6Yl"
      },
      "outputs": [],
      "source": [
        "# Import required libraries\n",
        "import math\n",
        "from scipy.stats import norm"
      ]
    },
    {
      "cell_type": "code",
      "source": [
        "# Step 1: Given Data\n",
        "\n",
        "sample_mean = 3050        # observed mean weekly cost from sample (Rs)\n",
        "n = 25                    # sample size\n",
        "X_mean = 600              # mean units produced\n",
        "X_std = 25                # std. deviation of units produced"
      ],
      "metadata": {
        "id": "CPDoL8XTX8C9"
      },
      "execution_count": 2,
      "outputs": []
    },
    {
      "cell_type": "code",
      "source": [
        "# Theoretical mean weekly cost from the model: W = 1000 + 5X\n",
        "mu = 1000 + 5 * X_mean    # theoretical mean weekly cost\n",
        "sigma = 5 * X_std         # population std. deviation of weekly cost\n",
        "\n",
        "alpha = 0.05              # significance level"
      ],
      "metadata": {
        "id": "fYTtJGpzYIx5"
      },
      "execution_count": 3,
      "outputs": []
    },
    {
      "cell_type": "code",
      "source": [
        "print(\"Step 1: Given Data\")\n",
        "print(f\"Theoretical Mean (μ) = {mu}\")\n",
        "print(f\"Sample Mean (x̄) = {sample_mean}\")\n",
        "print(f\"Population Std. Deviation (σ) = {sigma}\")\n",
        "print(f\"Sample Size (n) = {n}\")\n",
        "print(f\"Significance Level (α) = {alpha}\")"
      ],
      "metadata": {
        "colab": {
          "base_uri": "https://localhost:8080/"
        },
        "id": "0JSZSRj7YPVL",
        "outputId": "75912222-c95a-47b2-8976-6e3183364311"
      },
      "execution_count": 6,
      "outputs": [
        {
          "output_type": "stream",
          "name": "stdout",
          "text": [
            "Step 1: Given Data\n",
            "Theoretical Mean (μ) = 4000\n",
            "Sample Mean (x̄) = 3050\n",
            "Population Std. Deviation (σ) = 125\n",
            "Sample Size (n) = 25\n",
            "Significance Level (α) = 0.05\n"
          ]
        }
      ]
    },
    {
      "cell_type": "code",
      "source": [
        " #Step 2: State the Hypotheses\n",
        "print(\"Step 2: Hypotheses\")\n",
        "print(\"H0: The true mean weekly cost = theoretical cost (μ = 4000)\")\n",
        "print(\"H1: The true mean weekly cost > theoretical cost (μ > 4000)\")"
      ],
      "metadata": {
        "colab": {
          "base_uri": "https://localhost:8080/"
        },
        "id": "zoH7G-A9YnRk",
        "outputId": "e7f00047-0e76-4a18-b804-caa1933ad2e1"
      },
      "execution_count": 7,
      "outputs": [
        {
          "output_type": "stream",
          "name": "stdout",
          "text": [
            "Step 2: Hypotheses\n",
            "H0: The true mean weekly cost = theoretical cost (μ = 4000)\n",
            "H1: The true mean weekly cost > theoretical cost (μ > 4000)\n"
          ]
        }
      ]
    },
    {
      "cell_type": "code",
      "source": [
        "# Step 3: Compute Test Statistic (Z)\n",
        "# Formula: Z = (x̄ - μ) / (σ / sqrt(n))\n",
        "\n",
        "z_stat = (sample_mean - mu) / (sigma / math.sqrt(n))\n",
        "\n",
        "print(\"Step 3: Test Statistic Calculation\")\n",
        "print(f\"Z = (x̄ - μ) / (σ / √n) = ({sample_mean} - {mu}) / ({sigma} / √{n})\")\n",
        "print(f\"Calculated Z statistic = {z_stat:.4f}\")\n"
      ],
      "metadata": {
        "colab": {
          "base_uri": "https://localhost:8080/"
        },
        "id": "soc311grYxfd",
        "outputId": "beafc911-1328-466d-b069-3a322bff35ab"
      },
      "execution_count": 9,
      "outputs": [
        {
          "output_type": "stream",
          "name": "stdout",
          "text": [
            "Step 3: Test Statistic Calculation\n",
            "Z = (x̄ - μ) / (σ / √n) = (3050 - 4000) / (125 / √25)\n",
            "Calculated Z statistic = -38.0000\n"
          ]
        }
      ]
    },
    {
      "cell_type": "code",
      "source": [
        "# Step 4: Determine Critical Value\n",
        "# Since it's a right-tailed test (claim: cost is higher), use 1 - α\n",
        "z_critical = norm.ppf(1 - alpha)\n",
        "\n",
        "print(\"Step 4: Critical Value\")\n",
        "print(f\"Critical Z value (right-tailed, α = {alpha}) = {z_critical:.4f}\")"
      ],
      "metadata": {
        "colab": {
          "base_uri": "https://localhost:8080/"
        },
        "id": "AeQvFd5NZTw8",
        "outputId": "71143576-9d06-4f0e-f550-48094333a29e"
      },
      "execution_count": 11,
      "outputs": [
        {
          "output_type": "stream",
          "name": "stdout",
          "text": [
            "Step 4: Critical Value\n",
            "Critical Z value (right-tailed, α = 0.05) = 1.6449\n"
          ]
        }
      ]
    },
    {
      "cell_type": "code",
      "source": [
        "# Step 5: Decision\n",
        "print(\"Step 5: Decision\")\n",
        "if z_stat > z_critical:\n",
        "    print(\"Reject the null hypothesis (H0).\")\n",
        "    print(\"There is significant evidence that the weekly operating costs are higher than the model suggests.\")\n",
        "else:\n",
        "    print(\"Fail to reject the null hypothesis (H0).\")\n",
        "    print(\"There is NOT enough evidence to conclude that weekly operating costs are higher than the model suggests.\")"
      ],
      "metadata": {
        "colab": {
          "base_uri": "https://localhost:8080/"
        },
        "id": "wCvR_YE2ZW6z",
        "outputId": "68a5a7af-965f-42e0-e9e9-4cbd248dda67"
      },
      "execution_count": 12,
      "outputs": [
        {
          "output_type": "stream",
          "name": "stdout",
          "text": [
            "Step 5: Decision\n",
            "Fail to reject the null hypothesis (H0).\n",
            "There is NOT enough evidence to conclude that weekly operating costs are higher than the model suggests.\n"
          ]
        }
      ]
    },
    {
      "cell_type": "code",
      "source": [
        "# Step 6: Conclusion\n",
        "print(\"Step 6: Conclusion\")\n",
        "print(f\"Calculated Z = {z_stat:.4f}\")\n",
        "print(f\"Critical Z = {z_critical:.4f}\")\n",
        "print(\"α = 0.05 (5% level of significance)\")\n",
        "print(\"\\nInterpretation:\")\n",
        "print(\"If Z > Critical Z, we reject H0 (costs are significantly higher).\")\n",
        "print(\"If Z ≤ Critical Z, we fail to reject H0 (costs follow the model).\")"
      ],
      "metadata": {
        "colab": {
          "base_uri": "https://localhost:8080/"
        },
        "id": "2kBBWMU0Zpk8",
        "outputId": "11fe9052-0fba-4996-e2a4-94e0aefff855"
      },
      "execution_count": 13,
      "outputs": [
        {
          "output_type": "stream",
          "name": "stdout",
          "text": [
            "Step 6: Conclusion\n",
            "Calculated Z = -38.0000\n",
            "Critical Z = 1.6449\n",
            "α = 0.05 (5% level of significance)\n",
            "\n",
            "Interpretation:\n",
            "If Z > Critical Z, we reject H0 (costs are significantly higher).\n",
            "If Z ≤ Critical Z, we fail to reject H0 (costs follow the model).\n"
          ]
        }
      ]
    },
    {
      "cell_type": "code",
      "source": [
        "print(f\"Calculated Z = {z_stat:.4f}\")"
      ],
      "metadata": {
        "colab": {
          "base_uri": "https://localhost:8080/"
        },
        "id": "mCNM-pEHZ1ey",
        "outputId": "20f4cbd7-1fca-46c3-af90-f6584e792676"
      },
      "execution_count": 14,
      "outputs": [
        {
          "output_type": "stream",
          "name": "stdout",
          "text": [
            "Calculated Z = -38.0000\n"
          ]
        }
      ]
    },
    {
      "cell_type": "code",
      "source": [
        "print(f\"Critical Z = {z_critical:.4f}\")"
      ],
      "metadata": {
        "colab": {
          "base_uri": "https://localhost:8080/"
        },
        "id": "VzrTVTtUZ5dM",
        "outputId": "291f7579-09fd-4fd0-ad44-64fd349f48ae"
      },
      "execution_count": 15,
      "outputs": [
        {
          "output_type": "stream",
          "name": "stdout",
          "text": [
            "Critical Z = 1.6449\n"
          ]
        }
      ]
    },
    {
      "cell_type": "code",
      "source": [
        "print(\"α = 0.05 (5% level of significance)\")"
      ],
      "metadata": {
        "colab": {
          "base_uri": "https://localhost:8080/"
        },
        "id": "TENgBxtXZ-5P",
        "outputId": "e2becc69-4957-47d6-8079-d121fdb57292"
      },
      "execution_count": 16,
      "outputs": [
        {
          "output_type": "stream",
          "name": "stdout",
          "text": [
            "α = 0.05 (5% level of significance)\n"
          ]
        }
      ]
    },
    {
      "cell_type": "code",
      "source": [
        "print(\"\\nInterpretation:\")"
      ],
      "metadata": {
        "colab": {
          "base_uri": "https://localhost:8080/"
        },
        "id": "mvZgV_13aCJ6",
        "outputId": "86131697-1f71-4b14-9391-58bb6ca7fc8c"
      },
      "execution_count": 17,
      "outputs": [
        {
          "output_type": "stream",
          "name": "stdout",
          "text": [
            "\n",
            "Interpretation:\n"
          ]
        }
      ]
    },
    {
      "cell_type": "code",
      "source": [
        "print(\"If Z > Critical Z, we reject H0 (costs are significantly higher).\")"
      ],
      "metadata": {
        "colab": {
          "base_uri": "https://localhost:8080/"
        },
        "id": "PXS8QOtlaFVc",
        "outputId": "faf5d02f-c2bc-402f-f726-7b1cb6aeff59"
      },
      "execution_count": 18,
      "outputs": [
        {
          "output_type": "stream",
          "name": "stdout",
          "text": [
            "If Z > Critical Z, we reject H0 (costs are significantly higher).\n"
          ]
        }
      ]
    },
    {
      "cell_type": "code",
      "source": [
        "print(\"If Z ≤ Critical Z, we fail to reject H0 (costs follow the model).\")"
      ],
      "metadata": {
        "colab": {
          "base_uri": "https://localhost:8080/"
        },
        "id": "fnjnSgJZaQT2",
        "outputId": "98e80db2-209a-423d-bfc2-bd388fd82071"
      },
      "execution_count": 19,
      "outputs": [
        {
          "output_type": "stream",
          "name": "stdout",
          "text": [
            "If Z ≤ Critical Z, we fail to reject H0 (costs follow the model).\n"
          ]
        }
      ]
    },
    {
      "cell_type": "code",
      "source": [
        "# Optional: Display Final Summary\n",
        "if z_stat > z_critical:\n",
        "    conclusion = \" Conclusion: Reject H0 — Weekly operating costs are significantly higher than predicted by the model.\"\n",
        "else:\n",
        "    conclusion = \" Conclusion: Fail to Reject H0 — No significant increase in weekly operating costs.\"\n",
        "print(conclusion)"
      ],
      "metadata": {
        "colab": {
          "base_uri": "https://localhost:8080/"
        },
        "id": "hGNu950oaTdF",
        "outputId": "ba4f4827-8285-4730-a318-c807005d1c24"
      },
      "execution_count": 20,
      "outputs": [
        {
          "output_type": "stream",
          "name": "stdout",
          "text": [
            " Conclusion: Fail to Reject H0 — No significant increase in weekly operating costs.\n"
          ]
        }
      ]
    },
    {
      "cell_type": "markdown",
      "source": [
        "Final Conclusion\n",
        "\n",
        "There is no significant evidence that weekly operating costs are higher than the theoretical model predicts.\n",
        "In fact, the sample mean (3050) is lower, so the owners’ claim is not supported."
      ],
      "metadata": {
        "id": "CzvfVMWPbFaF"
      }
    },
    {
      "cell_type": "code",
      "source": [],
      "metadata": {
        "id": "hoSLknm2ag1k"
      },
      "execution_count": null,
      "outputs": []
    },
    {
      "cell_type": "code",
      "source": [],
      "metadata": {
        "id": "jxeB1mIIa-h2"
      },
      "execution_count": null,
      "outputs": []
    }
  ]
}